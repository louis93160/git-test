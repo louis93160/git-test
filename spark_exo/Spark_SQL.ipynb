{
 "cells": [
  {
   "cell_type": "code",
   "execution_count": 1,
   "metadata": {},
   "outputs": [
    {
     "name": "stderr",
     "output_type": "stream",
     "text": [
      "your 131072x1 screen size is bogus. expect trouble\n",
      "23/10/21 19:40:54 WARN Utils: Your hostname, LAPTOP-R4RVPDJS resolves to a loopback address: 127.0.1.1; using 172.17.243.25 instead (on interface eth0)\n",
      "23/10/21 19:40:54 WARN Utils: Set SPARK_LOCAL_IP if you need to bind to another address\n",
      "Setting default log level to \"WARN\".\n",
      "To adjust logging level use sc.setLogLevel(newLevel). For SparkR, use setLogLevel(newLevel).\n",
      "23/10/21 19:40:57 WARN NativeCodeLoader: Unable to load native-hadoop library for your platform... using builtin-java classes where applicable\n",
      "/home/louis/.local/lib/python3.10/site-packages/pyspark/sql/context.py:112: FutureWarning: Deprecated in 3.0.0. Use SparkSession.builder.getOrCreate() instead.\n",
      "  warnings.warn(\n"
     ]
    }
   ],
   "source": [
    "import os\n",
    "import findspark\n",
    "import matplotlib.pyplot as plt\n",
    "\n",
    "from pyspark import SparkContext\n",
    "from pyspark.sql import SQLContext\n",
    "\n",
    "# Spécifie le chemin où est stocké Spark\n",
    "os.environ[\"SPARK_HOME\"] = \"/home/louis/spark-3.5.0-bin-hadoop3\"\n",
    "\n",
    "# Trouve les exécutables dans le dossier SPARK_HOME\n",
    "findspark.init()  \n",
    "\n",
    "# Crée un SparkContext local\n",
    "sc = SparkContext(master=\"local[*]\")\n",
    "\n",
    "# Instancie un SQLContext\n",
    "sql_c = SQLContext(sc)"
   ]
  },
  {
   "cell_type": "code",
   "execution_count": 4,
   "metadata": {},
   "outputs": [],
   "source": [
    "rdd = sc.parallelize([i for i in range(10)])"
   ]
  },
  {
   "cell_type": "code",
   "execution_count": 5,
   "metadata": {},
   "outputs": [
    {
     "name": "stderr",
     "output_type": "stream",
     "text": [
      "                                                                                \r"
     ]
    },
    {
     "name": "stdout",
     "output_type": "stream",
     "text": [
      "+---+\n",
      "| _1|\n",
      "+---+\n",
      "|  0|\n",
      "|  1|\n",
      "|  2|\n",
      "|  3|\n",
      "|  4|\n",
      "|  5|\n",
      "|  6|\n",
      "|  7|\n",
      "|  8|\n",
      "|  9|\n",
      "+---+\n",
      "\n"
     ]
    }
   ],
   "source": [
    "df = sql_c.createDataFrame(rdd.map(lambda i: (i,)))\n",
    "df.show()"
   ]
  },
  {
   "cell_type": "code",
   "execution_count": 6,
   "metadata": {},
   "outputs": [
    {
     "name": "stderr",
     "output_type": "stream",
     "text": [
      "                                                                                \r"
     ]
    },
    {
     "data": {
      "text/html": [
       "<div>\n",
       "<style scoped>\n",
       "    .dataframe tbody tr th:only-of-type {\n",
       "        vertical-align: middle;\n",
       "    }\n",
       "\n",
       "    .dataframe tbody tr th {\n",
       "        vertical-align: top;\n",
       "    }\n",
       "\n",
       "    .dataframe thead th {\n",
       "        text-align: right;\n",
       "    }\n",
       "</style>\n",
       "<table border=\"1\" class=\"dataframe\">\n",
       "  <thead>\n",
       "    <tr style=\"text-align: right;\">\n",
       "      <th></th>\n",
       "      <th>_1</th>\n",
       "    </tr>\n",
       "  </thead>\n",
       "  <tbody>\n",
       "    <tr>\n",
       "      <th>0</th>\n",
       "      <td>0</td>\n",
       "    </tr>\n",
       "    <tr>\n",
       "      <th>1</th>\n",
       "      <td>1</td>\n",
       "    </tr>\n",
       "    <tr>\n",
       "      <th>2</th>\n",
       "      <td>2</td>\n",
       "    </tr>\n",
       "    <tr>\n",
       "      <th>3</th>\n",
       "      <td>3</td>\n",
       "    </tr>\n",
       "    <tr>\n",
       "      <th>4</th>\n",
       "      <td>4</td>\n",
       "    </tr>\n",
       "  </tbody>\n",
       "</table>\n",
       "</div>"
      ],
      "text/plain": [
       "   _1\n",
       "0   0\n",
       "1   1\n",
       "2   2\n",
       "3   3\n",
       "4   4"
      ]
     },
     "execution_count": 6,
     "metadata": {},
     "output_type": "execute_result"
    }
   ],
   "source": [
    "df.toPandas().head()"
   ]
  },
  {
   "cell_type": "code",
   "execution_count": 7,
   "metadata": {},
   "outputs": [
    {
     "name": "stdout",
     "output_type": "stream",
     "text": [
      "+---------+--------+----+-------------------+-----+\n",
      "|bathrooms|bedrooms|beds|is_fully_refundable|price|\n",
      "+---------+--------+----+-------------------+-----+\n",
      "|      0.0|     0.0| 1.0|                  1| 25.0|\n",
      "|      0.0|     1.0| 1.0|                  1| 30.0|\n",
      "|      0.0|     1.0| 2.0|                  1| 65.0|\n",
      "|      1.0|     0.0| 1.0|                  1| 60.0|\n",
      "|      1.0|     0.0| 1.0|                  1| 60.0|\n",
      "|      1.0|     0.0| 1.0|                  1| 65.0|\n",
      "|      1.0|     1.0| 1.0|                  1| 80.0|\n",
      "|      1.0|     1.0| 1.0|                  1| 80.0|\n",
      "|      1.0|     1.0| 1.0|                  1| 90.0|\n",
      "|      1.0|     1.0| 1.0|                  1|105.0|\n",
      "|      1.0|     0.0| 1.0|                  1| 45.0|\n",
      "|      1.0|     0.0| 1.0|                  1| 65.0|\n",
      "|      1.0|     0.0| 1.0|                  1| 50.0|\n",
      "|      1.0|     0.0| 1.0|                  1| 50.0|\n",
      "|      1.0|     0.0| 2.0|                  1| 90.0|\n",
      "|      1.0|     0.0| 1.0|                  1| 55.0|\n",
      "|      1.0|     0.0| 1.0|                  1| 65.0|\n",
      "|      1.0|     0.0| 1.0|                  1| 65.0|\n",
      "|      1.0|     0.0| 1.0|                  1| 65.0|\n",
      "|      1.0|     0.0| 1.0|                  1| 70.0|\n",
      "+---------+--------+----+-------------------+-----+\n",
      "only showing top 20 rows\n",
      "\n"
     ]
    }
   ],
   "source": [
    "data = sql_c.read.option(\"header\", True).csv(\"logements.csv\")\n",
    "data.show()"
   ]
  }
 ],
 "metadata": {
  "kernelspec": {
   "display_name": "Python 3",
   "language": "python",
   "name": "python3"
  },
  "language_info": {
   "codemirror_mode": {
    "name": "ipython",
    "version": 3
   },
   "file_extension": ".py",
   "mimetype": "text/x-python",
   "name": "python",
   "nbconvert_exporter": "python",
   "pygments_lexer": "ipython3",
   "version": "3.10.12"
  }
 },
 "nbformat": 4,
 "nbformat_minor": 2
}
